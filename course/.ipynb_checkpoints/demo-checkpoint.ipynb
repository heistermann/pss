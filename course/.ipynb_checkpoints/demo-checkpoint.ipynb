{
 "metadata": {
  "name": "",
  "signature": "sha256:3f29555667770f4b667f008db8f41fe217c623fdb053ebc761f9e5f9ad82aa56"
 },
 "nbformat": 3,
 "nbformat_minor": 0,
 "worksheets": [
  {
   "cells": [
    {
     "cell_type": "markdown",
     "metadata": {},
     "source": [
      "# Potsdam Summer School - Precipitation Data Analysis with Python\n",
      "\n",
      "*A brief demo of data and their visualisation*"
     ]
    },
    {
     "cell_type": "code",
     "collapsed": false,
     "input": [
      "# Import required libraries\n",
      "%pylab inline\n",
      "import wradlib\n",
      "from helper import *"
     ],
     "language": "python",
     "metadata": {},
     "outputs": []
    },
    {
     "cell_type": "markdown",
     "metadata": {},
     "source": [
      "## Example 1: Composite Radar Data from the Germany Weather Service (RADOLAN)\n",
      "\n",
      "These and other data are freely available [here](ftp://ftp-cdc.dwd.de/pub/CDC/).\n",
      "\n",
      "This example shows readily processed radar data, composited from 17 radar stations, corrected by rain gauge observations on the ground, and accumulated over one day."
     ]
    },
    {
     "cell_type": "code",
     "collapsed": false,
     "input": [
      "# Read data\n",
      "data, meta = wradlib.io.read_RADOLAN_composite(\"data/raa01-rw_10000-1406092050-dwd---bin.gz\", missing=np.nan)"
     ],
     "language": "python",
     "metadata": {},
     "outputs": []
    },
    {
     "cell_type": "code",
     "collapsed": false,
     "input": [
      "# Inspect attributes\n",
      "for attr in meta.keys():\n",
      "    print attr, \":\", meta[attr]"
     ],
     "language": "python",
     "metadata": {},
     "outputs": []
    },
    {
     "cell_type": "code",
     "collapsed": false,
     "input": [
      "# Plot data on a map\n",
      "\n",
      "# Georeference RADOLAN grid\n",
      "trgproj = wradlib.georef.create_osr(\"dwd-radolan\")\n",
      "X, Y = georef_radolan(trgproj)\n",
      "\n",
      "# Open and reproject shapefile for overlay\n",
      "lines, keys = get_shp_coords(\"data/shapes/bundeslaender_wgs84.shp\", trgproj=trgproj)\n",
      "\n",
      "# Mask secondary (unwanted) data\n",
      "sec = meta['secondary']\n",
      "data.flat[sec] = np.nan\n",
      "\n",
      "# Create figure\n",
      "fig = plt.figure(figsize=(16,16))\n",
      "#    Overview for Germany\n",
      "ax = plt.subplot(121, aspect='equal')\n",
      "pm = plt.pcolormesh(X, Y, np.ma.masked_invalid(data), cmap=plt.cm.spectral, vmax=30)\n",
      "wradlib.vis.add_lines(ax, lines, color='white', lw=1)\n",
      "cb = plt.colorbar(shrink=0.3)\n",
      "title = plt.title('RADOLAN RW Product \\n' + meta['datetime'].isoformat())\n",
      "ax.add_patch(matplotlib.patches.Rectangle((-220, -4200),100, 100, fill=False, edgecolor=\"red\", lw=2))\n",
      "plt.xlabel(\"RADOLAN easting (km)\")\n",
      "plt.ylabel(\"RADOLAN northing (km)\")\n",
      "plt.xlim(-400, 400)\n",
      "plt.ylim(Y.min(), Y.max())\n",
      "#   Zoom into NRW\n",
      "ax = plt.subplot(122, aspect='equal')\n",
      "pm = plt.pcolormesh(X, Y, np.ma.masked_invalid(data), cmap=plt.cm.spectral, vmax=30)\n",
      "cb = plt.colorbar(shrink=0.3)\n",
      "title = plt.title('RADOLAN RW Product ZOOM\\n' + meta['datetime'].isoformat())\n",
      "x, y = wradlib.georef.reproject([7.463436, 6.943976], [51.516544, 50.933234], projection_target=trgproj)\n",
      "plt.plot(x,y, marker=\"o\", color=\"white\", markeredgecolor=\"white\", linestyle=\"None\")\n",
      "plt.text(x[0]+1., y[0]+1., \"Dortmund\", color=\"white\")\n",
      "#plt.text(x[1]+0.5, y[1]+1., \"Cologne\", color=\"white\")\n",
      "plt.xlabel(\"RADOLAN easting (km)\")\n",
      "plt.ylabel(\"RADOLAN northing (km)\")\n",
      "plt.xlim(-220, -120)\n",
      "plt.ylim(-4200, -4100)"
     ],
     "language": "python",
     "metadata": {},
     "outputs": []
    },
    {
     "cell_type": "markdown",
     "metadata": {},
     "source": [
      "## Example 2: Space-born vs. terrestrial rainfall observation\n",
      "\n",
      "This example will illustrate the difference in spatial resolution between terrestrial radars and standard TRMM products. The TRMM products are freely available [here](http://pps.gsfc.nasa.gov). In this case study, we'll compare TRMM rainfall estimates to values obtained from a terrestrial S-band radar located in the Philippines. We will look at the daily rainfall depth obtained for August 7, 2012, in the course of a dramatic SW-monsoon event. Unfortunately, the S-band data are not freely available.\n",
      "\n",
      "Please note that TRMM officially came to an end on April 15, 2015. It is followed by the Global Precipitation Measurement Mission (GPM). "
     ]
    },
    {
     "cell_type": "code",
     "collapsed": false,
     "input": [
      "# Read the data\n",
      "#   from TRMM \n",
      "X, Y, R = read_trmm(\"data/3B42_daily.2012.08.07.7.nc\")\n",
      "#   from Subic S-band\n",
      "raddata, radmeta = wradlib.io.from_hdf5(\"data/subic_depth_1_5_elev_20120807.hdf5\")"
     ],
     "language": "python",
     "metadata": {},
     "outputs": []
    },
    {
     "cell_type": "code",
     "collapsed": false,
     "input": [
      "# Read shapefile for overlay\n",
      "filename = \"data/shapes/philippines.shp\"\n",
      "dataset, inLayer = wradlib.io.open_shape(filename)\n",
      "borders, keys = wradlib.georef.get_shape_coordinates(inLayer)"
     ],
     "language": "python",
     "metadata": {},
     "outputs": []
    },
    {
     "cell_type": "code",
     "collapsed": false,
     "input": [
      "# Create rainfall maps\n",
      "proj_rad = wradlib.georef.get_default_projection()\n",
      "zoombox = [119.5, 121.5, 14, 15.5]\n",
      "\n",
      "fig = plt.figure(figsize=(18,18))\n",
      "\n",
      "# Subic S-band radar\n",
      "ax = fig.add_subplot(121, aspect=\"equal\")\n",
      "ax, pm = wradlib.vis.plot_ppi(raddata, site=radmeta[\"sitecoords\"], r=radmeta[\"r\"], az=radmeta[\"az\"],\n",
      "                              elev=radmeta[\"Elevation\"], proj=proj_rad, ax=ax,\n",
      "                              cmap = plt.cm.spectral, vmax=500. )\n",
      "ax = wradlib.vis.plot_ppi_crosshair(site=radmeta[\"sitecoords\"][0:2], ranges=[40000, 80000, 120000],\n",
      "                               proj=proj_rad, ax=ax, elev=radmeta[\"Elevation\"],\n",
      "                               kwds={'line':{'color':'white', 'linestyle':'dotted'},\n",
      "                                     'circle':{'edgecolor':'white', 'linestyle':'dotted'}})\n",
      "wradlib.vis.add_lines(ax, borders, color='white', lw=1.)\n",
      "plt.xlabel(\"Latitude\")\n",
      "plt.ylabel(\"Longitude\")\n",
      "plt.title(\"Rainfall depth on 2012-08-07 from Subic S-Band radar\")\n",
      "plt.xlim(zoombox[0:2])\n",
      "plt.ylim(zoombox[2:4])\n",
      "\n",
      "# TRMM\n",
      "ax = fig.add_subplot(122, aspect=\"equal\")\n",
      "pm = ax.pcolormesh(X, Y, R, vmax=500. )\n",
      "wradlib.vis.add_lines(ax, borders, color='white', lw=1.)\n",
      "plt.xlabel(\"Latitude\")\n",
      "plt.ylabel(\"Longitude\")\n",
      "plt.title(\"Rainfall depth on 2012-08-07 from TRMM\")\n",
      "plt.grid(color=\"white\")\n",
      "plt.xlim(zoombox[0:2])\n",
      "plt.ylim(zoombox[2:4])"
     ],
     "language": "python",
     "metadata": {},
     "outputs": []
    },
    {
     "cell_type": "code",
     "collapsed": false,
     "input": [],
     "language": "python",
     "metadata": {},
     "outputs": []
    }
   ],
   "metadata": {}
  }
 ]
}