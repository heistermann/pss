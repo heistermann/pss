{
 "metadata": {
  "name": "",
  "signature": "sha256:dcb4344e5d5c56e9f6cf703432768ac4372fefc1121c77925ff48832c583ab77"
 },
 "nbformat": 3,
 "nbformat_minor": 0,
 "worksheets": [
  {
   "cells": [
    {
     "cell_type": "markdown",
     "metadata": {},
     "source": [
      "# Potsdam Summer School - Precipitation Data Analysis with Python"
     ]
    },
    {
     "cell_type": "code",
     "collapsed": false,
     "input": [
      "# Import required libraries\n",
      "%matplotlib inline\n",
      "import numpy as np\n",
      "import wradlib"
     ],
     "language": "python",
     "metadata": {},
     "outputs": []
    },
    {
     "cell_type": "markdown",
     "metadata": {},
     "source": [
      "## Composite Radar Data from the Germany Weather Service (RADOLAN)"
     ]
    },
    {
     "cell_type": "code",
     "collapsed": false,
     "input": [
      "# Read data\n",
      "data, meta = wradlib.io.read_RADOLAN_composite(\"data/raa01-rw_10000-1408102050-dwd---bin.gz\")"
     ],
     "language": "python",
     "metadata": {},
     "outputs": []
    },
    {
     "cell_type": "code",
     "collapsed": false,
     "input": [
      "# Print attributes\n",
      "for attr in meta.keys():\n",
      "    print attr, \":\", meta[attr]"
     ],
     "language": "python",
     "metadata": {},
     "outputs": []
    },
    {
     "cell_type": "code",
     "collapsed": false,
     "input": [
      "# Plot data on a map\n",
      "sec = meta['secondary']\n",
      "data.flat[sec] = -9999\n",
      "data = np.ma.masked_equal(data, -9999)\n",
      "\n",
      "# plot the images side by side\n",
      "plt.figure(figsize=(16,16))\n",
      "plt.subplot(122, aspect='equal')\n",
      "x = np.arange(0, data.shape[0] + 1, 1)\n",
      "y = np.arange(0, data.shape[1] + 1, 1)\n",
      "X, Y = np.meshgrid(x, y)\n",
      "# using spectral to better see spatial patterns\n",
      "cmap = plt.cm.spectral\n",
      "plt.pcolormesh(X, Y, data, cmap=cmap)\n",
      "plt.xlim(0, max(x))\n",
      "plt.ylim(0, max(y))\n",
      "plt.colorbar(shrink=0.3)\n",
      "plt.title('RADOLAN RW Product \\n' + meta['datetime'].isoformat())"
     ],
     "language": "python",
     "metadata": {},
     "outputs": []
    },
    {
     "cell_type": "code",
     "collapsed": false,
     "input": [],
     "language": "python",
     "metadata": {},
     "outputs": []
    }
   ],
   "metadata": {}
  }
 ]
}